{
 "cells": [
  {
   "cell_type": "code",
   "execution_count": null,
   "metadata": {},
   "outputs": [],
   "source": [
    "import pandas as pd\n",
    "from urllib.parse import urlparse\n",
    "import os\n",
    "import gc\n",
    "import re\n"
   ]
  },
  {
   "cell_type": "code",
   "execution_count": null,
   "metadata": {},
   "outputs": [],
   "source": [
    "output_file = \"unique_sites_count.csv\"\n",
    "file_list = [f\"D:/Лаби/3 курс/2 семестр/МЛ/Проект/data/news_part_{i}.csv\" for i in range(1, 24)]\n",
    "\n",
    "if os.path.exists(output_file):\n",
    "    site_counts = pd.read_csv(output_file)\n",
    "else:\n",
    "    site_counts = pd.DataFrame(columns=[\"site\", \"count\"])"
   ]
  },
  {
   "cell_type": "code",
   "execution_count": null,
   "metadata": {},
   "outputs": [],
   "source": [
    "for i, file in enumerate(file_list):\n",
    "    df = pd.read_csv(file)\n",
    "    df = df.dropna(subset=[\"url\"])\n",
    "    df[\"site\"] = df[\"url\"].apply(lambda x: urlparse(x).netloc)\n",
    "\n",
    "    df_counts = df[[\"site\", \"owner\"]].value_counts().reset_index()\n",
    "    df_counts.columns = [\"site\", \"owner\", \"count\"]\n",
    "\n",
    "    site_counts = pd.concat([site_counts, df_counts]).groupby(\"site\", as_index=False).sum()\n",
    "    site_counts = site_counts.dropna().sort_values(by=\"count\", ascending=False)\n",
    "\n",
    "    site_counts.to_csv(output_file, index=False)\n",
    "    print(f\"Processed {file}\")\n",
    "    \n",
    "    del df, df_counts\n",
    "    gc.collect()\n",
    "    \n",
    "print(\"Data preprocessing completed\")"
   ]
  },
  {
   "cell_type": "code",
   "execution_count": null,
   "metadata": {},
   "outputs": [],
   "source": []
  }
 ],
 "metadata": {
  "kernelspec": {
   "display_name": "Python 3",
   "language": "python",
   "name": "python3"
  },
  "language_info": {
   "codemirror_mode": {
    "name": "ipython",
    "version": 3
   },
   "file_extension": ".py",
   "mimetype": "text/x-python",
   "name": "python",
   "nbconvert_exporter": "python",
   "pygments_lexer": "ipython3",
   "version": "3.13.2"
  }
 },
 "nbformat": 4,
 "nbformat_minor": 2
}
