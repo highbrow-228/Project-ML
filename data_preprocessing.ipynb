{
 "cells": [
  {
   "cell_type": "code",
   "execution_count": null,
   "metadata": {},
   "outputs": [],
   "source": [
    "import pandas as pd\n",
    "from urllib.parse import urlparse\n",
    "import os\n",
    "import gc\n"
   ]
  },
  {
   "cell_type": "code",
   "execution_count": 2,
   "metadata": {},
   "outputs": [],
   "source": [
    "output_file = \"unique_sites_count.csv\"\n",
    "file_list = [f\"D:/Лаби/3 курс/2 семестр/МЛ/Проект/data/news_part_{i}.csv\" for i in range(1, 24)]\n",
    "\n",
    "if os.path.exists(output_file):\n",
    "    site_counts = pd.read_csv(output_file)\n",
    "else:\n",
    "    site_counts = pd.DataFrame(columns=[\"site\", \"owner\", \"count\"])"
   ]
  },
  {
   "cell_type": "code",
   "execution_count": null,
   "metadata": {},
   "outputs": [
    {
     "name": "stdout",
     "output_type": "stream",
     "text": [
      "Processed D:/Лаби/3 курс/2 семестр/МЛ/Проект/data/news_part_1.csv\n",
      "Processed D:/Лаби/3 курс/2 семестр/МЛ/Проект/data/news_part_2.csv\n",
      "Processed D:/Лаби/3 курс/2 семестр/МЛ/Проект/data/news_part_3.csv\n",
      "Processed D:/Лаби/3 курс/2 семестр/МЛ/Проект/data/news_part_4.csv\n",
      "Processed D:/Лаби/3 курс/2 семестр/МЛ/Проект/data/news_part_5.csv\n",
      "Processed D:/Лаби/3 курс/2 семестр/МЛ/Проект/data/news_part_6.csv\n",
      "Processed D:/Лаби/3 курс/2 семестр/МЛ/Проект/data/news_part_7.csv\n",
      "Processed D:/Лаби/3 курс/2 семестр/МЛ/Проект/data/news_part_8.csv\n",
      "Processed D:/Лаби/3 курс/2 семестр/МЛ/Проект/data/news_part_9.csv\n",
      "Processed D:/Лаби/3 курс/2 семестр/МЛ/Проект/data/news_part_10.csv\n",
      "Processed D:/Лаби/3 курс/2 семестр/МЛ/Проект/data/news_part_11.csv\n",
      "Processed D:/Лаби/3 курс/2 семестр/МЛ/Проект/data/news_part_12.csv\n",
      "Processed D:/Лаби/3 курс/2 семестр/МЛ/Проект/data/news_part_13.csv\n",
      "Processed D:/Лаби/3 курс/2 семестр/МЛ/Проект/data/news_part_14.csv\n",
      "Processed D:/Лаби/3 курс/2 семестр/МЛ/Проект/data/news_part_15.csv\n",
      "Processed D:/Лаби/3 курс/2 семестр/МЛ/Проект/data/news_part_16.csv\n",
      "Processed D:/Лаби/3 курс/2 семестр/МЛ/Проект/data/news_part_17.csv\n",
      "Processed D:/Лаби/3 курс/2 семестр/МЛ/Проект/data/news_part_18.csv\n",
      "Processed D:/Лаби/3 курс/2 семестр/МЛ/Проект/data/news_part_19.csv\n",
      "Processed D:/Лаби/3 курс/2 семестр/МЛ/Проект/data/news_part_20.csv\n",
      "Processed D:/Лаби/3 курс/2 семестр/МЛ/Проект/data/news_part_21.csv\n",
      "Processed D:/Лаби/3 курс/2 семестр/МЛ/Проект/data/news_part_22.csv\n",
      "Processed D:/Лаби/3 курс/2 семестр/МЛ/Проект/data/news_part_23.csv\n",
      "Data preprocessing completed\n"
     ]
    }
   ],
   "source": [
    "for i, file in enumerate(file_list):\n",
    "    df = pd.read_csv(file)\n",
    "    df = df.dropna()\n",
    "    df[\"site\"] = df[\"url\"].apply(lambda x: urlparse(x).netloc)\n",
    "\n",
    "    df_counts = df[[\"site\", \"owner\"]].value_counts().reset_index()\n",
    "    df_counts.columns = [\"site\", \"owner\", \"count\"]\n",
    "    \n",
    "    site_counts = pd.concat([site_counts, df_counts])\n",
    "    site_counts = site_counts.groupby([\"site\", \"owner\"], as_index=False).sum()\n",
    "    \n",
    "    site_counts = site_counts.dropna().sort_values(by=\"count\", ascending=False)\n",
    "\n",
    "    site_counts.to_csv(output_file, index=False)\n",
    "    print(f\"Processed {file}\")\n",
    "    \n",
    "    del df, df_counts\n",
    "    gc.collect()\n",
    "    \n",
    "print(\"Data preprocessing completed\")"
   ]
  },
  {
   "cell_type": "code",
   "execution_count": null,
   "metadata": {},
   "outputs": [],
   "source": []
  }
 ],
 "metadata": {
  "kernelspec": {
   "display_name": "Python 3",
   "language": "python",
   "name": "python3"
  },
  "language_info": {
   "codemirror_mode": {
    "name": "ipython",
    "version": 3
   },
   "file_extension": ".py",
   "mimetype": "text/x-python",
   "name": "python",
   "nbconvert_exporter": "python",
   "pygments_lexer": "ipython3",
   "version": "3.13.2"
  }
 },
 "nbformat": 4,
 "nbformat_minor": 2
}
