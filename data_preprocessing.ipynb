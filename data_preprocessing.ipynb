{
 "cells": [
  {
   "cell_type": "code",
   "execution_count": 8,
   "metadata": {},
   "outputs": [
    {
     "name": "stdout",
     "output_type": "stream",
     "text": [
      " -> https://fake.net.ua/reestr/fake-news/item/zgvaltuvannya-ta-vbivstvo-u-vorzely-zavyvsy-seryjnij-napadnik-fejkova-novina-ta-manipulyatsiya\n",
      "Згвалтування та вбивство: у Ворзелі завівся серійний нападник - фейкова новина та маніпуляция -> https://fake.net.ua/reestr/fake-news/item/zgvaltuvannya-ta-vbivstvo-u-vorzely-zavyvsy-seryjnij-napadnik-fejkova-novina-ta-manipulyatsiya\n",
      " -> https://fake.net.ua/reestr/fake-news/item/feik-vid-sud-oholosyv-u-rozshuk-eks-holovu-kotsiubynskoho-matiushynu\n",
      "Фейк від ITV: Суд оголосив у розшук екс-голову Коцюбинського Матюшину -> https://fake.net.ua/reestr/fake-news/item/feik-vid-sud-oholosyv-u-rozshuk-eks-holovu-kotsiubynskoho-matiushynu\n",
      " -> https://fake.net.ua/reestr/fake-news/item/uvaga-fejk-krymskij-kriminal-pytaetsya-zakhvatit-irpen-antikor\n",
      "УВАГА ФЕЙК: Крымский криминал пытается захватить Ирпень - АНТИКОР -> https://fake.net.ua/reestr/fake-news/item/uvaga-fejk-krymskij-kriminal-pytaetsya-zakhvatit-irpen-antikor\n",
      " -> https://fake.net.ua/reestr/fake-news/item/uliana-suprun-pokynula-ukraynu-y-uletela-v-ssha-feik-ot-stranaiua\n",
      "Ульяна Супрун покинула Украину и улетела в США - фейк от СТРАНА.ЮА -> https://fake.net.ua/reestr/fake-news/item/uliana-suprun-pokynula-ukraynu-y-uletela-v-ssha-feik-ot-stranaiua\n",
      " -> https://fake.net.ua/reestr/fake-news/item/feikova-novyna-munitsypalna-varta-iak-naikrashche-hromadske-formuvannia-kyivshchyny-z-okhorony-poriadku\n",
      "Фейкова новина: Муніципальна варта, як найкраще громадське формування Київщини з охорони порядку -> https://fake.net.ua/reestr/fake-news/item/feikova-novyna-munitsypalna-varta-iak-naikrashche-hromadske-formuvannia-kyivshchyny-z-okhorony-poriadku\n",
      " -> https://fake.net.ua/reestr/fake-news/item/nepravdyva-informatsiia-pro-veterana-ato-oleksandra-nikolaitsia-vid-feikovoho-saitu\n",
      "Неправдива інформація про ветерана АТО Олександра Ніколайця від фейкового сайту 04597.com.ua -> https://fake.net.ua/reestr/fake-news/item/nepravdyva-informatsiia-pro-veterana-ato-oleksandra-nikolaitsia-vid-feikovoho-saitu\n",
      " -> https://fake.net.ua/reestr/fake-news/item/100\n",
      "ТОП-100 найвпливовіших людей Київщини у 2020 році - фейк від Моєї Київщини -> https://fake.net.ua/reestr/fake-news/item/100\n",
      " -> https://fake.net.ua/reestr/fake-news/item/provaider-best-planuie-u-2021-rotsi-vidmovytysia-vid-posluh-telebachennia-feikova-novyna\n",
      "Провайдер «Бест» планує у 2021 році відмовитися від послуг телебачення - фейкова новина -> https://fake.net.ua/reestr/fake-news/item/provaider-best-planuie-u-2021-rotsi-vidmovytysia-vid-posluh-telebachennia-feikova-novyna\n",
      " -> https://fake.net.ua/reestr/fake-news/item/prylypko-vidmovyvsia-vid-posady-hostomelskoho-selyshchnoho-holovy-feik-vid-itv\n",
      "Прилипко відмовився від посади Гостомельського селищного голови - фейк від ITV -> https://fake.net.ua/reestr/fake-news/item/prylypko-vidmovyvsia-vid-posady-hostomelskoho-selyshchnoho-holovy-feik-vid-itv\n",
      " -> https://fake.net.ua/reestr/fake-news/item/prylypko-vidmovyvsia-vid-posady-v-hostomeli-perevybory-feikova-novyna-vid\n",
      "Прилипко відмовився від посади - в Гостомелі перевибори - фейкова новина від 04597.com.ua -> https://fake.net.ua/reestr/fake-news/item/prylypko-vidmovyvsia-vid-posady-v-hostomeli-perevybory-feikova-novyna-vid\n",
      " -> https://fake.net.ua/reestr/fake-news/item/na-perekhresti-mizh-vorzelem-i-bucheiu-potriine-dtp-mototsyklist-rozbyvsia-nasmert-feik\n",
      "На перехресті між Ворзелем і Бучею потрійне ДТП: мотоцикліст розбився насмерть - Фейк -> https://fake.net.ua/reestr/fake-news/item/na-perekhresti-mizh-vorzelem-i-bucheiu-potriine-dtp-mototsyklist-rozbyvsia-nasmert-feik\n",
      " -> https://fake.net.ua/reestr/fake-news/item/feikova-ahitatsiia-v-irpenia-oksana-nechytailo-ne-ie-diiuchym-koordynatorom-orhanizatsii-lets-do-it-ukraine\n",
      "Фейкова агітація в Ірпені: Оксана Нечитайло не є діючим координатором організації \"Lets Do It Ukraine\" -> https://fake.net.ua/reestr/fake-news/item/feikova-ahitatsiia-v-irpenia-oksana-nechytailo-ne-ie-diiuchym-koordynatorom-orhanizatsii-lets-do-it-ukraine\n",
      " -> https://fake.net.ua/reestr/fake-news/item/hostomelskoho-selyshchnoho-holovu-prylypka-zasudyly-do-10-rokiv-pozbavlennia-voli-feik-vid-moiei-kyivshchyny\n",
      "Гостомельського селищного голову Прилипка засудили до 10 років позбавлення волі - фейк від Моєї Київщини -> https://fake.net.ua/reestr/fake-news/item/hostomelskoho-selyshchnoho-holovu-prylypka-zasudyly-do-10-rokiv-pozbavlennia-voli-feik-vid-moiei-kyivshchyny\n",
      " -> https://fake.net.ua/reestr/fake-news/item/k-ubijstvu-veterana-ato-v-kievskoj-oblasti-prichastna-banda-konstantina-bedovogo-kosti-kaloshi-fejk\n",
      "К убийству ветерана АТО в Киевской области причастна банда Константина Бедового (Кости Калоши) - Фейк -> https://fake.net.ua/reestr/fake-news/item/k-ubijstvu-veterana-ato-v-kievskoj-oblasti-prichastna-banda-konstantina-bedovogo-kosti-kaloshi-fejk\n",
      " -> https://fake.net.ua/reestr/fake-news/item/saakashvili-postavil-zelenskomu-ul-timatum-radi-dolzhnosti-dlya-eks-glavy-natspolitsii-dekanoidze-fejk\n",
      "Саакашвили поставил Зеленскому ультиматум ради должности для экс-главы Нацполиции Деканоидзе  - фейк -> https://fake.net.ua/reestr/fake-news/item/saakashvili-postavil-zelenskomu-ul-timatum-radi-dolzhnosti-dlya-eks-glavy-natspolitsii-dekanoidze-fejk\n",
      " -> https://fake.net.ua/reestr/fake-news/item/radykalni-svoi-iak-bereza-sprobuie-vziaty-kyiv-na-krytytsi-zelenskoho-feikova-novyna\n",
      "Радикальні \"Свої\": Як Береза спробує взяти Київ на критиці Зеленського - фейкова новина -> https://fake.net.ua/reestr/fake-news/item/radykalni-svoi-iak-bereza-sprobuie-vziaty-kyiv-na-krytytsi-zelenskoho-feikova-novyna\n"
     ]
    }
   ],
   "source": [
    "import requests\n",
    "from bs4 import BeautifulSoup\n",
    "\n",
    "BASE_URL = \"https://fake.net.ua\"\n",
    "URL = f\"{BASE_URL}/reestr/fake-news\"\n",
    "\n",
    "headers = {\n",
    "    \"User-Agent\": \"Mozilla/5.0 (Windows NT 10.0; Win64; x64)\"\n",
    "}\n",
    "\n",
    "response = requests.get(URL, headers=headers)\n",
    "\n",
    "if response.status_code == 200:\n",
    "    soup = BeautifulSoup(response.text, \"html.parser\")\n",
    "    \n",
    "    news = []\n",
    "    for a_tag in soup.find_all(\"a\", href=True, title=True):\n",
    "        if \"/reestr/fake-news/item/\" in a_tag[\"href\"]:\n",
    "            title = a_tag.text.strip()\n",
    "            link = BASE_URL + a_tag[\"href\"]\n",
    "            news.append((title, link))\n",
    "    \n",
    "    for title, link in news:\n",
    "        print(title, \"->\", link)\n",
    "else:\n",
    "    print(f\"Помилка {response.status_code}\")\n"
   ]
  },
  {
   "cell_type": "code",
   "execution_count": null,
   "metadata": {},
   "outputs": [],
   "source": []
  },
  {
   "cell_type": "code",
   "execution_count": 9,
   "metadata": {},
   "outputs": [
    {
     "name": "stdout",
     "output_type": "stream",
     "text": [
      "Кількість спарсених новин: 32\n"
     ]
    }
   ],
   "source": [
    "print(f\"Кількість спарсених новин: {len(news)}\")\n"
   ]
  },
  {
   "cell_type": "code",
   "execution_count": null,
   "metadata": {},
   "outputs": [],
   "source": []
  }
 ],
 "metadata": {
  "kernelspec": {
   "display_name": "Python 3",
   "language": "python",
   "name": "python3"
  },
  "language_info": {
   "codemirror_mode": {
    "name": "ipython",
    "version": 3
   },
   "file_extension": ".py",
   "mimetype": "text/x-python",
   "name": "python",
   "nbconvert_exporter": "python",
   "pygments_lexer": "ipython3",
   "version": "3.13.2"
  }
 },
 "nbformat": 4,
 "nbformat_minor": 2
}
