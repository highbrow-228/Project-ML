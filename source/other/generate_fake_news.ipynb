{
 "cells": [
  {
   "cell_type": "markdown",
   "metadata": {},
   "source": [
    "# Final code"
   ]
  },
  {
   "cell_type": "code",
   "execution_count": 5,
   "metadata": {},
   "outputs": [
    {
     "name": "stdout",
     "output_type": "stream",
     "text": [
      "Requirement already satisfied: langchain_google_genai in d:\\пітон\\lib\\site-packages (2.1.2)\n",
      "Requirement already satisfied: filetype<2.0.0,>=1.2.0 in d:\\пітон\\lib\\site-packages (from langchain_google_genai) (1.2.0)\n",
      "Requirement already satisfied: google-ai-generativelanguage<0.7.0,>=0.6.16 in d:\\пітон\\lib\\site-packages (from langchain_google_genai) (0.6.17)\n",
      "Requirement already satisfied: langchain-core<0.4.0,>=0.3.49 in d:\\пітон\\lib\\site-packages (from langchain_google_genai) (0.3.50)\n",
      "Requirement already satisfied: pydantic<3,>=2 in d:\\пітон\\lib\\site-packages (from langchain_google_genai) (2.11.1)\n",
      "Requirement already satisfied: google-api-core!=2.0.*,!=2.1.*,!=2.10.*,!=2.2.*,!=2.3.*,!=2.4.*,!=2.5.*,!=2.6.*,!=2.7.*,!=2.8.*,!=2.9.*,<3.0.0,>=1.34.1 in d:\\пітон\\lib\\site-packages (from google-api-core[grpc]!=2.0.*,!=2.1.*,!=2.10.*,!=2.2.*,!=2.3.*,!=2.4.*,!=2.5.*,!=2.6.*,!=2.7.*,!=2.8.*,!=2.9.*,<3.0.0,>=1.34.1->google-ai-generativelanguage<0.7.0,>=0.6.16->langchain_google_genai) (2.24.2)\n",
      "Requirement already satisfied: google-auth!=2.24.0,!=2.25.0,<3.0.0,>=2.14.1 in d:\\пітон\\lib\\site-packages (from google-ai-generativelanguage<0.7.0,>=0.6.16->langchain_google_genai) (2.38.0)\n",
      "Requirement already satisfied: proto-plus<2.0.0,>=1.22.3 in d:\\пітон\\lib\\site-packages (from google-ai-generativelanguage<0.7.0,>=0.6.16->langchain_google_genai) (1.26.1)\n",
      "Requirement already satisfied: protobuf!=4.21.0,!=4.21.1,!=4.21.2,!=4.21.3,!=4.21.4,!=4.21.5,<7.0.0,>=3.20.2 in d:\\пітон\\lib\\site-packages (from google-ai-generativelanguage<0.7.0,>=0.6.16->langchain_google_genai) (5.29.4)\n",
      "Requirement already satisfied: langsmith<0.4,>=0.1.125 in d:\\пітон\\lib\\site-packages (from langchain-core<0.4.0,>=0.3.49->langchain_google_genai) (0.3.24)\n",
      "Requirement already satisfied: tenacity!=8.4.0,<10.0.0,>=8.1.0 in d:\\пітон\\lib\\site-packages (from langchain-core<0.4.0,>=0.3.49->langchain_google_genai) (9.1.2)\n",
      "Requirement already satisfied: jsonpatch<2.0,>=1.33 in d:\\пітон\\lib\\site-packages (from langchain-core<0.4.0,>=0.3.49->langchain_google_genai) (1.33)\n",
      "Requirement already satisfied: PyYAML>=5.3 in d:\\пітон\\lib\\site-packages (from langchain-core<0.4.0,>=0.3.49->langchain_google_genai) (6.0.2)\n",
      "Requirement already satisfied: packaging<25,>=23.2 in c:\\users\\yuliia\\appdata\\roaming\\python\\python313\\site-packages (from langchain-core<0.4.0,>=0.3.49->langchain_google_genai) (24.2)\n",
      "Requirement already satisfied: typing-extensions>=4.7 in d:\\пітон\\lib\\site-packages (from langchain-core<0.4.0,>=0.3.49->langchain_google_genai) (4.12.2)\n",
      "Requirement already satisfied: annotated-types>=0.6.0 in d:\\пітон\\lib\\site-packages (from pydantic<3,>=2->langchain_google_genai) (0.7.0)\n",
      "Requirement already satisfied: pydantic-core==2.33.0 in d:\\пітон\\lib\\site-packages (from pydantic<3,>=2->langchain_google_genai) (2.33.0)\n",
      "Requirement already satisfied: typing-inspection>=0.4.0 in d:\\пітон\\lib\\site-packages (from pydantic<3,>=2->langchain_google_genai) (0.4.0)\n",
      "Requirement already satisfied: googleapis-common-protos<2.0.0,>=1.56.2 in d:\\пітон\\lib\\site-packages (from google-api-core!=2.0.*,!=2.1.*,!=2.10.*,!=2.2.*,!=2.3.*,!=2.4.*,!=2.5.*,!=2.6.*,!=2.7.*,!=2.8.*,!=2.9.*,<3.0.0,>=1.34.1->google-api-core[grpc]!=2.0.*,!=2.1.*,!=2.10.*,!=2.2.*,!=2.3.*,!=2.4.*,!=2.5.*,!=2.6.*,!=2.7.*,!=2.8.*,!=2.9.*,<3.0.0,>=1.34.1->google-ai-generativelanguage<0.7.0,>=0.6.16->langchain_google_genai) (1.69.2)\n",
      "Requirement already satisfied: requests<3.0.0,>=2.18.0 in d:\\пітон\\lib\\site-packages (from google-api-core!=2.0.*,!=2.1.*,!=2.10.*,!=2.2.*,!=2.3.*,!=2.4.*,!=2.5.*,!=2.6.*,!=2.7.*,!=2.8.*,!=2.9.*,<3.0.0,>=1.34.1->google-api-core[grpc]!=2.0.*,!=2.1.*,!=2.10.*,!=2.2.*,!=2.3.*,!=2.4.*,!=2.5.*,!=2.6.*,!=2.7.*,!=2.8.*,!=2.9.*,<3.0.0,>=1.34.1->google-ai-generativelanguage<0.7.0,>=0.6.16->langchain_google_genai) (2.32.3)\n",
      "Requirement already satisfied: grpcio<2.0dev,>=1.33.2 in d:\\пітон\\lib\\site-packages (from google-api-core[grpc]!=2.0.*,!=2.1.*,!=2.10.*,!=2.2.*,!=2.3.*,!=2.4.*,!=2.5.*,!=2.6.*,!=2.7.*,!=2.8.*,!=2.9.*,<3.0.0,>=1.34.1->google-ai-generativelanguage<0.7.0,>=0.6.16->langchain_google_genai) (1.71.0)\n",
      "Requirement already satisfied: grpcio-status<2.0.dev0,>=1.33.2 in d:\\пітон\\lib\\site-packages (from google-api-core[grpc]!=2.0.*,!=2.1.*,!=2.10.*,!=2.2.*,!=2.3.*,!=2.4.*,!=2.5.*,!=2.6.*,!=2.7.*,!=2.8.*,!=2.9.*,<3.0.0,>=1.34.1->google-ai-generativelanguage<0.7.0,>=0.6.16->langchain_google_genai) (1.71.0)\n",
      "Requirement already satisfied: cachetools<6.0,>=2.0.0 in d:\\пітон\\lib\\site-packages (from google-auth!=2.24.0,!=2.25.0,<3.0.0,>=2.14.1->google-ai-generativelanguage<0.7.0,>=0.6.16->langchain_google_genai) (5.5.2)\n",
      "Requirement already satisfied: pyasn1-modules>=0.2.1 in d:\\пітон\\lib\\site-packages (from google-auth!=2.24.0,!=2.25.0,<3.0.0,>=2.14.1->google-ai-generativelanguage<0.7.0,>=0.6.16->langchain_google_genai) (0.4.2)\n",
      "Requirement already satisfied: rsa<5,>=3.1.4 in d:\\пітон\\lib\\site-packages (from google-auth!=2.24.0,!=2.25.0,<3.0.0,>=2.14.1->google-ai-generativelanguage<0.7.0,>=0.6.16->langchain_google_genai) (4.9)\n",
      "Requirement already satisfied: jsonpointer>=1.9 in d:\\пітон\\lib\\site-packages (from jsonpatch<2.0,>=1.33->langchain-core<0.4.0,>=0.3.49->langchain_google_genai) (3.0.0)\n",
      "Requirement already satisfied: httpx<1,>=0.23.0 in d:\\пітон\\lib\\site-packages (from langsmith<0.4,>=0.1.125->langchain-core<0.4.0,>=0.3.49->langchain_google_genai) (0.28.1)\n",
      "Requirement already satisfied: orjson<4.0.0,>=3.9.14 in d:\\пітон\\lib\\site-packages (from langsmith<0.4,>=0.1.125->langchain-core<0.4.0,>=0.3.49->langchain_google_genai) (3.10.16)\n",
      "Requirement already satisfied: requests-toolbelt<2.0.0,>=1.0.0 in d:\\пітон\\lib\\site-packages (from langsmith<0.4,>=0.1.125->langchain-core<0.4.0,>=0.3.49->langchain_google_genai) (1.0.0)\n",
      "Requirement already satisfied: zstandard<0.24.0,>=0.23.0 in d:\\пітон\\lib\\site-packages (from langsmith<0.4,>=0.1.125->langchain-core<0.4.0,>=0.3.49->langchain_google_genai) (0.23.0)\n",
      "Requirement already satisfied: anyio in d:\\пітон\\lib\\site-packages (from httpx<1,>=0.23.0->langsmith<0.4,>=0.1.125->langchain-core<0.4.0,>=0.3.49->langchain_google_genai) (4.9.0)\n",
      "Requirement already satisfied: certifi in d:\\пітон\\lib\\site-packages (from httpx<1,>=0.23.0->langsmith<0.4,>=0.1.125->langchain-core<0.4.0,>=0.3.49->langchain_google_genai) (2025.1.31)\n",
      "Requirement already satisfied: httpcore==1.* in d:\\пітон\\lib\\site-packages (from httpx<1,>=0.23.0->langsmith<0.4,>=0.1.125->langchain-core<0.4.0,>=0.3.49->langchain_google_genai) (1.0.7)\n",
      "Requirement already satisfied: idna in d:\\пітон\\lib\\site-packages (from httpx<1,>=0.23.0->langsmith<0.4,>=0.1.125->langchain-core<0.4.0,>=0.3.49->langchain_google_genai) (3.10)\n",
      "Requirement already satisfied: h11<0.15,>=0.13 in d:\\пітон\\lib\\site-packages (from httpcore==1.*->httpx<1,>=0.23.0->langsmith<0.4,>=0.1.125->langchain-core<0.4.0,>=0.3.49->langchain_google_genai) (0.14.0)\n",
      "Requirement already satisfied: pyasn1<0.7.0,>=0.6.1 in d:\\пітон\\lib\\site-packages (from pyasn1-modules>=0.2.1->google-auth!=2.24.0,!=2.25.0,<3.0.0,>=2.14.1->google-ai-generativelanguage<0.7.0,>=0.6.16->langchain_google_genai) (0.6.1)\n",
      "Requirement already satisfied: charset-normalizer<4,>=2 in d:\\пітон\\lib\\site-packages (from requests<3.0.0,>=2.18.0->google-api-core!=2.0.*,!=2.1.*,!=2.10.*,!=2.2.*,!=2.3.*,!=2.4.*,!=2.5.*,!=2.6.*,!=2.7.*,!=2.8.*,!=2.9.*,<3.0.0,>=1.34.1->google-api-core[grpc]!=2.0.*,!=2.1.*,!=2.10.*,!=2.2.*,!=2.3.*,!=2.4.*,!=2.5.*,!=2.6.*,!=2.7.*,!=2.8.*,!=2.9.*,<3.0.0,>=1.34.1->google-ai-generativelanguage<0.7.0,>=0.6.16->langchain_google_genai) (3.4.1)\n",
      "Requirement already satisfied: urllib3<3,>=1.21.1 in d:\\пітон\\lib\\site-packages (from requests<3.0.0,>=2.18.0->google-api-core!=2.0.*,!=2.1.*,!=2.10.*,!=2.2.*,!=2.3.*,!=2.4.*,!=2.5.*,!=2.6.*,!=2.7.*,!=2.8.*,!=2.9.*,<3.0.0,>=1.34.1->google-api-core[grpc]!=2.0.*,!=2.1.*,!=2.10.*,!=2.2.*,!=2.3.*,!=2.4.*,!=2.5.*,!=2.6.*,!=2.7.*,!=2.8.*,!=2.9.*,<3.0.0,>=1.34.1->google-ai-generativelanguage<0.7.0,>=0.6.16->langchain_google_genai) (2.3.0)\n",
      "Requirement already satisfied: sniffio>=1.1 in d:\\пітон\\lib\\site-packages (from anyio->httpx<1,>=0.23.0->langsmith<0.4,>=0.1.125->langchain-core<0.4.0,>=0.3.49->langchain_google_genai) (1.3.1)\n",
      "Note: you may need to restart the kernel to use updated packages.\n"
     ]
    }
   ],
   "source": [
    "pip install langchain_google_genai"
   ]
  },
  {
   "cell_type": "code",
   "execution_count": 32,
   "metadata": {},
   "outputs": [
    {
     "name": "stdout",
     "output_type": "stream",
     "text": [
      "Requirement already satisfied: python-dotenv in d:\\пітон\\lib\\site-packages (1.1.0)\n",
      "Note: you may need to restart the kernel to use updated packages.\n"
     ]
    }
   ],
   "source": [
    "pip install python-dotenv\n"
   ]
  },
  {
   "cell_type": "code",
   "execution_count": 1,
   "metadata": {},
   "outputs": [],
   "source": [
    "# імпорти\n",
    "from langchain_google_genai import ChatGoogleGenerativeAI\n",
    "from langchain_core.output_parsers import JsonOutputParser\n",
    "from pydantic import BaseModel, Field\n",
    "from typing_extensions import Literal\n",
    "import pandas as pd\n",
    "import time\n",
    "import os\n",
    "from dotenv import load_dotenv"
   ]
  },
  {
   "cell_type": "code",
   "execution_count": 2,
   "metadata": {},
   "outputs": [],
   "source": [
    "# Завантажуємо .env файл\n",
    "load_dotenv()\n",
    "api_key = os.getenv(\"GEMINI_API_KEY\")"
   ]
  },
  {
   "cell_type": "code",
   "execution_count": 3,
   "metadata": {},
   "outputs": [],
   "source": [
    "# Налаштування моделі\n",
    "model_name = \"gemini-2.0-flash-lite\"\n",
    "llm = ChatGoogleGenerativeAI(\n",
    "    model=model_name,\n",
    "    api_key=api_key,\n",
    "    temperature=0.8,\n",
    "    max_retries=2,\n",
    "    top_p=0.9,\n",
    "    top_k=40,\n",
    ")"
   ]
  },
  {
   "cell_type": "code",
   "execution_count": 4,
   "metadata": {},
   "outputs": [],
   "source": [
    "# Ініціалізація моделі\n",
    "class OutputModel(BaseModel):\n",
    "    title: str = Field(description=\"Заголовок\")\n",
    "    text: str = Field(description=\"Текст новини (300-500 слів)\")\n",
    "    topic: str = Field(description=\"Обрана тема\")\n",
    "    type_news: Literal[\"Маніпуляція\", \"Дезінформація\", \"Пропаганда\"]\n",
    "\n",
    "parser = JsonOutputParser(pydantic_object=OutputModel)"
   ]
  },
  {
   "cell_type": "code",
   "execution_count": 26,
   "metadata": {},
   "outputs": [],
   "source": [
    "# Повідомлення\n",
    "system_message = \"\"\"\\\n",
    "Ви — професійний журналіст з багаторічним досвідом роботи в провідних українських та міжнародних медіа. \n",
    "Ваші матеріали відзначаються аналітичністю, глибиною, структурованістю та дотриманням журналістських стандартів. \n",
    "Ви володієте навичками якісної подачі інформації, ретельно перевіряєте факти, зберігаєте об'єктивність і вмієте подати складну тему у зрозумілому й доступному для читача форматі. \n",
    "Ваш стиль — виважений, інформативний, орієнтований на свідомого читача. Ви створюєте тексти, що викликають довіру, зацікавлення та стимулюють до аналізу.\n",
    "\\\n",
    "\"\"\"\n",
    "\n",
    "human_message_template = \"\"\"\\\n",
    "Згенеруй фейкову, але правдоподібну новину, яка відповідає українському медіапростору у 2022–2025 роках.\n",
    "Тема: політика, економіка, суспільство або військові події.\n",
    "\n",
    "### **Тип новини (обери один):**\n",
    "1. **Маніпулятивна новина** – правдиві факти, подані у спотвореному контексті.\n",
    "2. **Дезінформація** – вигадана подія або перекручені реальні події.\n",
    "3. **Пропаганда** – матеріал, спрямований на дискредитацію України, вигідний російській стороні.\n",
    "\n",
    "### **Вимоги до тексту:**\n",
    "- Починай текст одразу з суті події. **Не додавай шаблонні вступи на кшталт “Київ, Україна, [дата] – ...”**.\n",
    "- Використовуй просту, зрозумілу мову, без складних термінів та професійного сленгу.\n",
    "- Новина має бути максимально реалістичною та стилістично наближеною до журналістських матеріалів.\n",
    "- Використовуй імена реальних політиків, державних установ та подій, що існували у цей період.\n",
    "- Додай цитати \"експертів\" або вигадані коментарі офіційних осіб для підвищення достовірності.\n",
    "\n",
    "{format_of_output}\n",
    "\"\"\""
   ]
  },
  {
   "cell_type": "code",
   "execution_count": 27,
   "metadata": {},
   "outputs": [],
   "source": [
    "# генерація новини\n",
    "def generate_one_news():\n",
    "    human_message = human_message_template.format(\n",
    "        format_of_output=parser.get_format_instructions()\n",
    "    )\n",
    "    messages = [(\"system\", system_message), (\"human\", human_message)]\n",
    "\n",
    "    response = llm.invoke(messages)\n",
    "    return parser.parse(response.content)"
   ]
  },
  {
   "cell_type": "code",
   "execution_count": 28,
   "metadata": {},
   "outputs": [],
   "source": [
    "# додавання до датасету\n",
    "def append_to_csv(news, path= \"../../data/fake_news_dataset.csv\"):\n",
    "    df = pd.DataFrame([{\n",
    "        \"title\": news['title'],\n",
    "        \"text\": news['text'],\n",
    "        \"topic\": news['topic'],\n",
    "        \"type\": news['type_news']\n",
    "    }])\n",
    "\n",
    "    if not os.path.exists(path):\n",
    "        df.to_csv(path, index=False, encoding=\"utf-8\")\n",
    "    else:\n",
    "        df.to_csv(path, mode=\"a\", index=False, header=False, encoding=\"utf-8\")"
   ]
  },
  {
   "cell_type": "code",
   "execution_count": 29,
   "metadata": {},
   "outputs": [
    {
     "name": "stdout",
     "output_type": "stream",
     "text": [
      "[1/1] Зростання цін на комунальні послуги: експерти попереджають про соціальну напругу\n",
      "\n",
      " Згенеровано 1 новин. Результати збережено.\n"
     ]
    }
   ],
   "source": [
    "n = 1\n",
    "delay = 2\n",
    "\n",
    "for i in range(n):\n",
    "    news = generate_one_news()\n",
    "    print(f\"[{i+1}/{n}] {news['title']}\")\n",
    "    append_to_csv(news)\n",
    "    time.sleep(delay)\n",
    "\n",
    "print(f\"\\n Згенеровано {n} новин. Результати збережено.\")"
   ]
  },
  {
   "cell_type": "code",
   "execution_count": null,
   "metadata": {},
   "outputs": [],
   "source": []
  }
 ],
 "metadata": {
  "kernelspec": {
   "display_name": "Python 3",
   "language": "python",
   "name": "python3"
  },
  "language_info": {
   "codemirror_mode": {
    "name": "ipython",
    "version": 3
   },
   "file_extension": ".py",
   "mimetype": "text/x-python",
   "name": "python",
   "nbconvert_exporter": "python",
   "pygments_lexer": "ipython3",
   "version": "3.13.2"
  }
 },
 "nbformat": 4,
 "nbformat_minor": 2
}
