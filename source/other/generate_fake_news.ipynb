{
 "cells": [
  {
   "cell_type": "markdown",
   "metadata": {},
   "source": [
    "# Final code"
   ]
  },
  {
   "cell_type": "code",
   "execution_count": 1,
   "metadata": {},
   "outputs": [
    {
     "name": "stdout",
     "output_type": "stream",
     "text": [
      "Requirement already satisfied: langchain_google_genai in e:\\university\\3_kyrs_(2_semester)\\машинне навчання\\project-ml\\.venv\\lib\\site-packages (2.1.2)\n",
      "Requirement already satisfied: filetype<2.0.0,>=1.2.0 in e:\\university\\3_kyrs_(2_semester)\\машинне навчання\\project-ml\\.venv\\lib\\site-packages (from langchain_google_genai) (1.2.0)\n",
      "Requirement already satisfied: google-ai-generativelanguage<0.7.0,>=0.6.16 in e:\\university\\3_kyrs_(2_semester)\\машинне навчання\\project-ml\\.venv\\lib\\site-packages (from langchain_google_genai) (0.6.17)\n",
      "Requirement already satisfied: langchain-core<0.4.0,>=0.3.49 in e:\\university\\3_kyrs_(2_semester)\\машинне навчання\\project-ml\\.venv\\lib\\site-packages (from langchain_google_genai) (0.3.50)\n",
      "Requirement already satisfied: pydantic<3,>=2 in e:\\university\\3_kyrs_(2_semester)\\машинне навчання\\project-ml\\.venv\\lib\\site-packages (from langchain_google_genai) (2.11.2)\n",
      "Requirement already satisfied: google-api-core!=2.0.*,!=2.1.*,!=2.10.*,!=2.2.*,!=2.3.*,!=2.4.*,!=2.5.*,!=2.6.*,!=2.7.*,!=2.8.*,!=2.9.*,<3.0.0,>=1.34.1 in e:\\university\\3_kyrs_(2_semester)\\машинне навчання\\project-ml\\.venv\\lib\\site-packages (from google-api-core[grpc]!=2.0.*,!=2.1.*,!=2.10.*,!=2.2.*,!=2.3.*,!=2.4.*,!=2.5.*,!=2.6.*,!=2.7.*,!=2.8.*,!=2.9.*,<3.0.0,>=1.34.1->google-ai-generativelanguage<0.7.0,>=0.6.16->langchain_google_genai) (2.24.2)\n",
      "Requirement already satisfied: google-auth!=2.24.0,!=2.25.0,<3.0.0,>=2.14.1 in e:\\university\\3_kyrs_(2_semester)\\машинне навчання\\project-ml\\.venv\\lib\\site-packages (from google-ai-generativelanguage<0.7.0,>=0.6.16->langchain_google_genai) (2.38.0)\n",
      "Requirement already satisfied: proto-plus<2.0.0,>=1.22.3 in e:\\university\\3_kyrs_(2_semester)\\машинне навчання\\project-ml\\.venv\\lib\\site-packages (from google-ai-generativelanguage<0.7.0,>=0.6.16->langchain_google_genai) (1.26.1)\n",
      "Requirement already satisfied: protobuf!=4.21.0,!=4.21.1,!=4.21.2,!=4.21.3,!=4.21.4,!=4.21.5,<7.0.0,>=3.20.2 in e:\\university\\3_kyrs_(2_semester)\\машинне навчання\\project-ml\\.venv\\lib\\site-packages (from google-ai-generativelanguage<0.7.0,>=0.6.16->langchain_google_genai) (5.29.4)\n",
      "Requirement already satisfied: langsmith<0.4,>=0.1.125 in e:\\university\\3_kyrs_(2_semester)\\машинне навчання\\project-ml\\.venv\\lib\\site-packages (from langchain-core<0.4.0,>=0.3.49->langchain_google_genai) (0.3.24)\n",
      "Requirement already satisfied: tenacity!=8.4.0,<10.0.0,>=8.1.0 in e:\\university\\3_kyrs_(2_semester)\\машинне навчання\\project-ml\\.venv\\lib\\site-packages (from langchain-core<0.4.0,>=0.3.49->langchain_google_genai) (9.1.2)\n",
      "Requirement already satisfied: jsonpatch<2.0,>=1.33 in e:\\university\\3_kyrs_(2_semester)\\машинне навчання\\project-ml\\.venv\\lib\\site-packages (from langchain-core<0.4.0,>=0.3.49->langchain_google_genai) (1.33)\n",
      "Requirement already satisfied: PyYAML>=5.3 in e:\\university\\3_kyrs_(2_semester)\\машинне навчання\\project-ml\\.venv\\lib\\site-packages (from langchain-core<0.4.0,>=0.3.49->langchain_google_genai) (6.0.2)\n",
      "Requirement already satisfied: packaging<25,>=23.2 in e:\\university\\3_kyrs_(2_semester)\\машинне навчання\\project-ml\\.venv\\lib\\site-packages (from langchain-core<0.4.0,>=0.3.49->langchain_google_genai) (24.2)\n",
      "Requirement already satisfied: typing-extensions>=4.7 in e:\\university\\3_kyrs_(2_semester)\\машинне навчання\\project-ml\\.venv\\lib\\site-packages (from langchain-core<0.4.0,>=0.3.49->langchain_google_genai) (4.12.2)\n",
      "Requirement already satisfied: annotated-types>=0.6.0 in e:\\university\\3_kyrs_(2_semester)\\машинне навчання\\project-ml\\.venv\\lib\\site-packages (from pydantic<3,>=2->langchain_google_genai) (0.7.0)\n",
      "Requirement already satisfied: pydantic-core==2.33.1 in e:\\university\\3_kyrs_(2_semester)\\машинне навчання\\project-ml\\.venv\\lib\\site-packages (from pydantic<3,>=2->langchain_google_genai) (2.33.1)\n",
      "Requirement already satisfied: typing-inspection>=0.4.0 in e:\\university\\3_kyrs_(2_semester)\\машинне навчання\\project-ml\\.venv\\lib\\site-packages (from pydantic<3,>=2->langchain_google_genai) (0.4.0)\n",
      "Requirement already satisfied: googleapis-common-protos<2.0.0,>=1.56.2 in e:\\university\\3_kyrs_(2_semester)\\машинне навчання\\project-ml\\.venv\\lib\\site-packages (from google-api-core!=2.0.*,!=2.1.*,!=2.10.*,!=2.2.*,!=2.3.*,!=2.4.*,!=2.5.*,!=2.6.*,!=2.7.*,!=2.8.*,!=2.9.*,<3.0.0,>=1.34.1->google-api-core[grpc]!=2.0.*,!=2.1.*,!=2.10.*,!=2.2.*,!=2.3.*,!=2.4.*,!=2.5.*,!=2.6.*,!=2.7.*,!=2.8.*,!=2.9.*,<3.0.0,>=1.34.1->google-ai-generativelanguage<0.7.0,>=0.6.16->langchain_google_genai) (1.69.2)\n",
      "Requirement already satisfied: requests<3.0.0,>=2.18.0 in e:\\university\\3_kyrs_(2_semester)\\машинне навчання\\project-ml\\.venv\\lib\\site-packages (from google-api-core!=2.0.*,!=2.1.*,!=2.10.*,!=2.2.*,!=2.3.*,!=2.4.*,!=2.5.*,!=2.6.*,!=2.7.*,!=2.8.*,!=2.9.*,<3.0.0,>=1.34.1->google-api-core[grpc]!=2.0.*,!=2.1.*,!=2.10.*,!=2.2.*,!=2.3.*,!=2.4.*,!=2.5.*,!=2.6.*,!=2.7.*,!=2.8.*,!=2.9.*,<3.0.0,>=1.34.1->google-ai-generativelanguage<0.7.0,>=0.6.16->langchain_google_genai) (2.32.3)\n",
      "Requirement already satisfied: grpcio<2.0dev,>=1.33.2 in e:\\university\\3_kyrs_(2_semester)\\машинне навчання\\project-ml\\.venv\\lib\\site-packages (from google-api-core[grpc]!=2.0.*,!=2.1.*,!=2.10.*,!=2.2.*,!=2.3.*,!=2.4.*,!=2.5.*,!=2.6.*,!=2.7.*,!=2.8.*,!=2.9.*,<3.0.0,>=1.34.1->google-ai-generativelanguage<0.7.0,>=0.6.16->langchain_google_genai) (1.71.0)\n",
      "Requirement already satisfied: grpcio-status<2.0.dev0,>=1.33.2 in e:\\university\\3_kyrs_(2_semester)\\машинне навчання\\project-ml\\.venv\\lib\\site-packages (from google-api-core[grpc]!=2.0.*,!=2.1.*,!=2.10.*,!=2.2.*,!=2.3.*,!=2.4.*,!=2.5.*,!=2.6.*,!=2.7.*,!=2.8.*,!=2.9.*,<3.0.0,>=1.34.1->google-ai-generativelanguage<0.7.0,>=0.6.16->langchain_google_genai) (1.71.0)\n",
      "Requirement already satisfied: cachetools<6.0,>=2.0.0 in e:\\university\\3_kyrs_(2_semester)\\машинне навчання\\project-ml\\.venv\\lib\\site-packages (from google-auth!=2.24.0,!=2.25.0,<3.0.0,>=2.14.1->google-ai-generativelanguage<0.7.0,>=0.6.16->langchain_google_genai) (5.5.2)\n",
      "Requirement already satisfied: pyasn1-modules>=0.2.1 in e:\\university\\3_kyrs_(2_semester)\\машинне навчання\\project-ml\\.venv\\lib\\site-packages (from google-auth!=2.24.0,!=2.25.0,<3.0.0,>=2.14.1->google-ai-generativelanguage<0.7.0,>=0.6.16->langchain_google_genai) (0.4.2)\n",
      "Requirement already satisfied: rsa<5,>=3.1.4 in e:\\university\\3_kyrs_(2_semester)\\машинне навчання\\project-ml\\.venv\\lib\\site-packages (from google-auth!=2.24.0,!=2.25.0,<3.0.0,>=2.14.1->google-ai-generativelanguage<0.7.0,>=0.6.16->langchain_google_genai) (4.9)\n",
      "Requirement already satisfied: jsonpointer>=1.9 in e:\\university\\3_kyrs_(2_semester)\\машинне навчання\\project-ml\\.venv\\lib\\site-packages (from jsonpatch<2.0,>=1.33->langchain-core<0.4.0,>=0.3.49->langchain_google_genai) (3.0.0)\n",
      "Requirement already satisfied: httpx<1,>=0.23.0 in e:\\university\\3_kyrs_(2_semester)\\машинне навчання\\project-ml\\.venv\\lib\\site-packages (from langsmith<0.4,>=0.1.125->langchain-core<0.4.0,>=0.3.49->langchain_google_genai) (0.28.1)\n",
      "Requirement already satisfied: orjson<4.0.0,>=3.9.14 in e:\\university\\3_kyrs_(2_semester)\\машинне навчання\\project-ml\\.venv\\lib\\site-packages (from langsmith<0.4,>=0.1.125->langchain-core<0.4.0,>=0.3.49->langchain_google_genai) (3.10.16)\n",
      "Requirement already satisfied: requests-toolbelt<2.0.0,>=1.0.0 in e:\\university\\3_kyrs_(2_semester)\\машинне навчання\\project-ml\\.venv\\lib\\site-packages (from langsmith<0.4,>=0.1.125->langchain-core<0.4.0,>=0.3.49->langchain_google_genai) (1.0.0)\n",
      "Requirement already satisfied: zstandard<0.24.0,>=0.23.0 in e:\\university\\3_kyrs_(2_semester)\\машинне навчання\\project-ml\\.venv\\lib\\site-packages (from langsmith<0.4,>=0.1.125->langchain-core<0.4.0,>=0.3.49->langchain_google_genai) (0.23.0)\n",
      "Requirement already satisfied: anyio in e:\\university\\3_kyrs_(2_semester)\\машинне навчання\\project-ml\\.venv\\lib\\site-packages (from httpx<1,>=0.23.0->langsmith<0.4,>=0.1.125->langchain-core<0.4.0,>=0.3.49->langchain_google_genai) (4.9.0)\n",
      "Requirement already satisfied: certifi in e:\\university\\3_kyrs_(2_semester)\\машинне навчання\\project-ml\\.venv\\lib\\site-packages (from httpx<1,>=0.23.0->langsmith<0.4,>=0.1.125->langchain-core<0.4.0,>=0.3.49->langchain_google_genai) (2025.1.31)\n",
      "Requirement already satisfied: httpcore==1.* in e:\\university\\3_kyrs_(2_semester)\\машинне навчання\\project-ml\\.venv\\lib\\site-packages (from httpx<1,>=0.23.0->langsmith<0.4,>=0.1.125->langchain-core<0.4.0,>=0.3.49->langchain_google_genai) (1.0.7)\n",
      "Requirement already satisfied: idna in e:\\university\\3_kyrs_(2_semester)\\машинне навчання\\project-ml\\.venv\\lib\\site-packages (from httpx<1,>=0.23.0->langsmith<0.4,>=0.1.125->langchain-core<0.4.0,>=0.3.49->langchain_google_genai) (3.10)\n",
      "Requirement already satisfied: h11<0.15,>=0.13 in e:\\university\\3_kyrs_(2_semester)\\машинне навчання\\project-ml\\.venv\\lib\\site-packages (from httpcore==1.*->httpx<1,>=0.23.0->langsmith<0.4,>=0.1.125->langchain-core<0.4.0,>=0.3.49->langchain_google_genai) (0.14.0)\n",
      "Requirement already satisfied: pyasn1<0.7.0,>=0.6.1 in e:\\university\\3_kyrs_(2_semester)\\машинне навчання\\project-ml\\.venv\\lib\\site-packages (from pyasn1-modules>=0.2.1->google-auth!=2.24.0,!=2.25.0,<3.0.0,>=2.14.1->google-ai-generativelanguage<0.7.0,>=0.6.16->langchain_google_genai) (0.6.1)\n",
      "Requirement already satisfied: charset-normalizer<4,>=2 in e:\\university\\3_kyrs_(2_semester)\\машинне навчання\\project-ml\\.venv\\lib\\site-packages (from requests<3.0.0,>=2.18.0->google-api-core!=2.0.*,!=2.1.*,!=2.10.*,!=2.2.*,!=2.3.*,!=2.4.*,!=2.5.*,!=2.6.*,!=2.7.*,!=2.8.*,!=2.9.*,<3.0.0,>=1.34.1->google-api-core[grpc]!=2.0.*,!=2.1.*,!=2.10.*,!=2.2.*,!=2.3.*,!=2.4.*,!=2.5.*,!=2.6.*,!=2.7.*,!=2.8.*,!=2.9.*,<3.0.0,>=1.34.1->google-ai-generativelanguage<0.7.0,>=0.6.16->langchain_google_genai) (3.4.1)\n",
      "Requirement already satisfied: urllib3<3,>=1.21.1 in e:\\university\\3_kyrs_(2_semester)\\машинне навчання\\project-ml\\.venv\\lib\\site-packages (from requests<3.0.0,>=2.18.0->google-api-core!=2.0.*,!=2.1.*,!=2.10.*,!=2.2.*,!=2.3.*,!=2.4.*,!=2.5.*,!=2.6.*,!=2.7.*,!=2.8.*,!=2.9.*,<3.0.0,>=1.34.1->google-api-core[grpc]!=2.0.*,!=2.1.*,!=2.10.*,!=2.2.*,!=2.3.*,!=2.4.*,!=2.5.*,!=2.6.*,!=2.7.*,!=2.8.*,!=2.9.*,<3.0.0,>=1.34.1->google-ai-generativelanguage<0.7.0,>=0.6.16->langchain_google_genai) (2.3.0)\n",
      "Requirement already satisfied: sniffio>=1.1 in e:\\university\\3_kyrs_(2_semester)\\машинне навчання\\project-ml\\.venv\\lib\\site-packages (from anyio->httpx<1,>=0.23.0->langsmith<0.4,>=0.1.125->langchain-core<0.4.0,>=0.3.49->langchain_google_genai) (1.3.1)\n"
     ]
    }
   ],
   "source": [
    "!pip install langchain_google_genai"
   ]
  },
  {
   "cell_type": "code",
   "execution_count": 2,
   "metadata": {},
   "outputs": [
    {
     "name": "stdout",
     "output_type": "stream",
     "text": [
      "Collecting python-dotenv\n",
      "  Using cached python_dotenv-1.1.0-py3-none-any.whl.metadata (24 kB)\n",
      "Using cached python_dotenv-1.1.0-py3-none-any.whl (20 kB)\n",
      "Installing collected packages: python-dotenv\n",
      "Successfully installed python-dotenv-1.1.0\n"
     ]
    }
   ],
   "source": [
    "!pip install python-dotenv"
   ]
  },
  {
   "cell_type": "code",
   "execution_count": 1,
   "metadata": {},
   "outputs": [],
   "source": [
    "# імпорти\n",
    "from langchain_google_genai import ChatGoogleGenerativeAI\n",
    "from langchain_core.output_parsers import JsonOutputParser\n",
    "from pydantic import BaseModel, Field\n",
    "from typing_extensions import Literal\n",
    "import pandas as pd\n",
    "import time\n",
    "import os\n",
    "from dotenv import load_dotenv"
   ]
  },
  {
   "cell_type": "code",
   "execution_count": 2,
   "metadata": {},
   "outputs": [],
   "source": [
    "# Завантажуємо .env файл\n",
    "load_dotenv()\n",
    "api_key = os.getenv(\"GEMINI_API_KEY\")"
   ]
  },
  {
   "cell_type": "code",
   "execution_count": 3,
   "metadata": {},
   "outputs": [],
   "source": [
    "# Налаштування моделі\n",
    "model_name = \"gemini-2.0-flash-lite\"\n",
    "llm = ChatGoogleGenerativeAI(\n",
    "    model=model_name,\n",
    "    api_key=api_key,\n",
    "    temperature=0.8,\n",
    "    max_retries=2,\n",
    "    top_p=0.9,\n",
    "    top_k=40,\n",
    ")"
   ]
  },
  {
   "cell_type": "code",
   "execution_count": 4,
   "metadata": {},
   "outputs": [],
   "source": [
    "# Ініціалізація моделі\n",
    "class OutputModel(BaseModel):\n",
    "    title: str = Field(description=\"Заголовок\")\n",
    "    text: str = Field(description=\"Текст новини (300-500 слів)\")\n",
    "    topic: str = Field(description=\"Обрана тема\")\n",
    "    type_news: Literal[\"Маніпуляція\", \"Дезінформація\", \"Пропаганда\"]\n",
    "\n",
    "parser = JsonOutputParser(pydantic_object=OutputModel)"
   ]
  },
  {
   "cell_type": "code",
   "execution_count": 5,
   "metadata": {},
   "outputs": [],
   "source": [
    "# Повідомлення\n",
    "system_message = \"\"\"Ви — досвідчений журналіст із понад 10 роками роботи в провідних українських та міжнародних медіа.\n",
    "Ваші тексти вирізняються глибиною аналізу, структурованістю та дотриманням високих стандартів журналістики.\n",
    "Ви володієте майстерністю фактчекінгу, балансу думок і доступного викладу складних тем.\n",
    "Ваш стиль — виважений, аргументований, орієнтований на критично мислячу аудиторію.\n",
    "Кожен ваш матеріал формує довіру, викликає інтелектуальну зацікавленість і спонукає до осмислення подій.\\\n",
    "\"\"\"\n",
    "\n",
    "human_message_template = \"\"\"Згенеруй **фейкову, але правдоподібну** новину у стилі провідних українських медіа 2022–2025 років. \\\n",
    "Тематика — **політика**, **економіка**, **суспільство** або **військові події**.\n",
    "\n",
    "---\n",
    "\n",
    "### Тип новини (вибери один):\n",
    "1. **Маніпуляція** — достовірні факти, подані у викривленому або контекстуально упередженому вигляді.\n",
    "2. **Дезінформація** — повністю вигадана або перекручена подія, що не відповідала дійсності.\n",
    "3. **Пропаганда** — наратив, який шкодить іміджу України, відповідає інтересам ворожої сторони (наприклад, РФ).\n",
    "\n",
    "---\n",
    "\n",
    "### Вимоги до тексту:\n",
    "- **Почни з головного** — подія, її суть, причетні особи або інституції.\n",
    "- Пиши **доступною, живою мовою** — без офіціозу, штампів чи технократичного жаргону.\n",
    "- Стиль має бути **максимально реалістичним**, у форматі репортажу або аналітичної замітки.\n",
    "- Включай **реальні імена посадовців, державних установ і фактів** (у межах 2022–2025 рр.).\n",
    "- Додай **коментарі експертів або посадових осіб** — вигадані, але переконливі.\n",
    "- **Не вигадуй географічних назв**, не використовуй очевидні кліше чи фантастичні події.\n",
    "- Орієнтуйся на стиль **«Української правди», «bihus.info», «ТСН»** — стриманий, динамічний, фактологічний.\n",
    "\n",
    "---\n",
    "\n",
    "{format_of_output}\n",
    "\"\"\"\n"
   ]
  },
  {
   "cell_type": "code",
   "execution_count": 6,
   "metadata": {},
   "outputs": [],
   "source": [
    "# генерація новини\n",
    "def generate_one_news():\n",
    "    human_message = human_message_template.format(\n",
    "        format_of_output=parser.get_format_instructions()\n",
    "    )\n",
    "    messages = [(\"system\", system_message), (\"human\", human_message)]\n",
    "\n",
    "    response = llm.invoke(messages)\n",
    "    return parser.parse(response.content)"
   ]
  },
  {
   "cell_type": "code",
   "execution_count": 7,
   "metadata": {},
   "outputs": [],
   "source": [
    "# додавання до датасету\n",
    "def append_to_csv(news, path= \"..\\\\..\\\\data\\\\fake_news_dataset.csv\"):\n",
    "    df = pd.DataFrame(\n",
    "        [\n",
    "            {\n",
    "                \"title\": news['title'],\n",
    "                \"text\": news['text'],\n",
    "                \"topic\": news['topic'],\n",
    "                \"type\": news['type_news']\n",
    "            }\n",
    "        ]\n",
    "    )\n",
    "\n",
    "    if not os.path.exists(path):\n",
    "        df.to_csv(path, index=False, encoding=\"utf-8\")\n",
    "    else:\n",
    "        df.to_csv(path, mode=\"a\", index=False, header=False, encoding=\"utf-8\")"
   ]
  },
  {
   "cell_type": "code",
   "execution_count": 8,
   "metadata": {},
   "outputs": [
    {
     "name": "stdout",
     "output_type": "stream",
     "text": [
      "[1/5] ЗМІ: Європейські партнери висловлюють стурбованість темпами реформ в Україні напередодні зими\n",
      "[2/5] ЗМІ: Відставка Резнікова стала результатом незадоволення західних партнерів темпами реформ в оборонній сфері\n",
      "[3/5] Злив даних з Офісу Президента: чия вина та які наслідки для міжнародної підтримки?\n",
      "[4/5] Зростання експорту зерна через Польщу: чи не ховається за показниками тіньовий бізнес?\n",
      "[5/5] Зростання імпорту російського газу через посередників: нові схеми чи стара практика?\n",
      "\n",
      " Згенеровано 5 новин. Результати збережено.\n"
     ]
    }
   ],
   "source": [
    "n = 5\n",
    "delay = 2\n",
    "\n",
    "for i in range(n):\n",
    "    news = generate_one_news()\n",
    "    print(f\"[{i+1}/{n}] {news['title']}\")\n",
    "    append_to_csv(news)\n",
    "    time.sleep(delay)\n",
    "\n",
    "print(f\"\\n Згенеровано {n} новин. Результати збережено.\")"
   ]
  },
  {
   "cell_type": "code",
   "execution_count": 9,
   "metadata": {},
   "outputs": [
    {
     "data": {
      "text/html": [
       "<div>\n",
       "<style scoped>\n",
       "    .dataframe tbody tr th:only-of-type {\n",
       "        vertical-align: middle;\n",
       "    }\n",
       "\n",
       "    .dataframe tbody tr th {\n",
       "        vertical-align: top;\n",
       "    }\n",
       "\n",
       "    .dataframe thead th {\n",
       "        text-align: right;\n",
       "    }\n",
       "</style>\n",
       "<table border=\"1\" class=\"dataframe\">\n",
       "  <thead>\n",
       "    <tr style=\"text-align: right;\">\n",
       "      <th></th>\n",
       "      <th>title</th>\n",
       "      <th>text</th>\n",
       "      <th>topic</th>\n",
       "      <th>type</th>\n",
       "    </tr>\n",
       "  </thead>\n",
       "  <tbody>\n",
       "    <tr>\n",
       "      <th>0</th>\n",
       "      <td>ЗМІ: Європейські партнери висловлюють стурбова...</td>\n",
       "      <td>Київ, Україна – Останніми тижнями зростає зане...</td>\n",
       "      <td>Політика</td>\n",
       "      <td>Маніпуляція</td>\n",
       "    </tr>\n",
       "    <tr>\n",
       "      <th>1</th>\n",
       "      <td>ЗМІ: Відставка Резнікова стала результатом нез...</td>\n",
       "      <td>Київ, Україна – За інформацією, отриманою з кі...</td>\n",
       "      <td>Політика</td>\n",
       "      <td>Маніпуляція</td>\n",
       "    </tr>\n",
       "    <tr>\n",
       "      <th>2</th>\n",
       "      <td>Злив даних з Офісу Президента: чия вина та які...</td>\n",
       "      <td>Несподіваний витік внутрішньої документації з ...</td>\n",
       "      <td>Політика</td>\n",
       "      <td>Маніпуляція</td>\n",
       "    </tr>\n",
       "    <tr>\n",
       "      <th>3</th>\n",
       "      <td>Зростання експорту зерна через Польщу: чи не х...</td>\n",
       "      <td>Київ – Останні місяці демонструють стрімке зро...</td>\n",
       "      <td>Економіка</td>\n",
       "      <td>Маніпуляція</td>\n",
       "    </tr>\n",
       "    <tr>\n",
       "      <th>4</th>\n",
       "      <td>Зростання імпорту російського газу через посер...</td>\n",
       "      <td>Київ, Україна – Останні місяці спостерігається...</td>\n",
       "      <td>Економіка</td>\n",
       "      <td>Маніпуляція</td>\n",
       "    </tr>\n",
       "  </tbody>\n",
       "</table>\n",
       "</div>"
      ],
      "text/plain": [
       "                                               title  \\\n",
       "0  ЗМІ: Європейські партнери висловлюють стурбова...   \n",
       "1  ЗМІ: Відставка Резнікова стала результатом нез...   \n",
       "2  Злив даних з Офісу Президента: чия вина та які...   \n",
       "3  Зростання експорту зерна через Польщу: чи не х...   \n",
       "4  Зростання імпорту російського газу через посер...   \n",
       "\n",
       "                                                text      topic         type  \n",
       "0  Київ, Україна – Останніми тижнями зростає зане...   Політика  Маніпуляція  \n",
       "1  Київ, Україна – За інформацією, отриманою з кі...   Політика  Маніпуляція  \n",
       "2  Несподіваний витік внутрішньої документації з ...   Політика  Маніпуляція  \n",
       "3  Київ – Останні місяці демонструють стрімке зро...  Економіка  Маніпуляція  \n",
       "4  Київ, Україна – Останні місяці спостерігається...  Економіка  Маніпуляція  "
      ]
     },
     "execution_count": 9,
     "metadata": {},
     "output_type": "execute_result"
    }
   ],
   "source": [
    "import pandas as pd\n",
    "\n",
    "df = pd.read_csv(\"..\\\\..\\\\data\\\\fake_news_dataset.csv\")\n",
    "df"
   ]
  },
  {
   "cell_type": "code",
   "execution_count": 11,
   "metadata": {},
   "outputs": [
    {
     "name": "stdout",
     "output_type": "stream",
     "text": [
      "Київ, Україна – Останніми тижнями зростає занепокоєння серед західних партнерів України щодо прогресу в проведенні ключових реформ, зокрема у сфері боротьби з корупцією та прозорості державних закупівель. Джерела в дипломатичних колах ЄС та США повідомляють про низку неформальних зустрічей, на яких обговорювалася ситуація з виконанням Україною рекомендацій Європейської комісії щодо членства в ЄС.\n",
      "\n",
      "Особливу увагу привертає затримка з призначенням нового керівника Національного антикорупційного бюро України (НАБУ) та невирішеність питання щодо реформування судової системи. \"Ми бачимо позитивні зрушення, але темп реформ не відповідає критично важливим викликам, з якими Україна стикається, зокрема, напередодні зими\", - цитує джерело в Брюсселі анонімного представника Європейської комісії.\n",
      "\n",
      "Ситуацію ускладнює також питання прозорості використання фінансової допомоги, що надходить від міжнародних партнерів. Незважаючи на офіційні заяви української влади про ефективний контроль за розподілом коштів, деякі представники західних урядів висловлюють занепокоєння щодо можливих ризиків зловживань.\n",
      "\n",
      "\"Ми розуміємо, що війна – це виклик для будь-якої країни, але реформи не повинні зупинятися. Від їх успіху залежить не тільки майбутнє України в Європі, але й обсяг подальшої фінансової та військової підтримки\", - заявив на умовах анонімності високопоставлений чиновник з Державного департаменту США.\n",
      "\n",
      "Водночас, офіційні представники української влади заперечують наявність серйозних проблем. \"Україна неухильно рухається шляхом реформ. Усі необхідні процедури будуть завершені у визначені терміни\", - заявив прессекретар Президента України під час брифінгу у вівторок. Він також підкреслив, що будь-які заяви про затримки є спробою дестабілізувати ситуацію та підірвати довіру до України.\n",
      "\n",
      "Експерти застерігають від поспішних висновків, наголошуючи на необхідності збереження балансу між потребами воєнного часу та вимогами щодо проведення реформ. \"Важливо не допустити, щоб політичні інтриги та корупційні скандали затьмарили головну мету – перемогу над агресором\", - зазначив політичний аналітик Ігор Петренко.\n"
     ]
    }
   ],
   "source": [
    "print(df['text'][0])"
   ]
  },
  {
   "cell_type": "code",
   "execution_count": null,
   "metadata": {},
   "outputs": [],
   "source": []
  }
 ],
 "metadata": {
  "kernelspec": {
   "display_name": ".venv",
   "language": "python",
   "name": "python3"
  },
  "language_info": {
   "codemirror_mode": {
    "name": "ipython",
    "version": 3
   },
   "file_extension": ".py",
   "mimetype": "text/x-python",
   "name": "python",
   "nbconvert_exporter": "python",
   "pygments_lexer": "ipython3",
   "version": "3.12.6"
  }
 },
 "nbformat": 4,
 "nbformat_minor": 2
}
